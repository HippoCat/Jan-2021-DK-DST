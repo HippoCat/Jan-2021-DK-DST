{
 "cells": [
  {
   "cell_type": "markdown",
   "metadata": {},
   "source": [
    "# Проект \"Угадай число 0\""
   ]
  },
  {
   "cell_type": "markdown",
   "metadata": {},
   "source": [
    "### 1. Техническое Задание\n",
    "\n",
    "Компьютер загадывает целое число от 1 до 100, и нам его нужно угадать. Под «угадать», конечно, подразумевается «написать программу, которая угадывает число».\n",
    "\n",
    "В качестве самого простого метода угадывания авторы модуля "
   ]
  },
  {
   "cell_type": "code",
   "execution_count": null,
   "metadata": {},
   "outputs": [],
   "source": []
  },
  {
   "cell_type": "code",
   "execution_count": null,
   "metadata": {},
   "outputs": [],
   "source": []
  },
  {
   "cell_type": "code",
   "execution_count": 3,
   "metadata": {},
   "outputs": [
    {
     "name": "stdout",
     "output_type": "stream",
     "text": [
      "Загадано число от 1 до 100\n",
      "50\n",
      "Угадываемое число больше 50 \n",
      "75\n",
      "Угадываемое число меньше 75 \n",
      "62\n",
      "Угадываемое число больше 62 \n",
      "68\n",
      "Угадываемое число больше 68 \n",
      "71\n",
      "Угадываемое число меньше 71 \n",
      "69\n",
      "Угадываемое число больше 69 \n",
      "70\n",
      "Вы угадали число 70 за 7 попыток.\n"
     ]
    }
   ],
   "source": [
    "import numpy as np\n",
    "\n",
    "count = 0                           # счетчик попыток\n",
    "number = np.random.randint(1,101)   # загадали число\n",
    "print (\"Загадано число от 1 до 100\")\n",
    "    \n",
    "while True:                        # бесконечный цикл\n",
    "    predict = int(input())         # предполагаемое число\n",
    "    count += 1                     # плюсуем попытку\n",
    "    if number == predict: break    # выход из цикла, если угадали\n",
    "    elif number > predict: print (f\"Угадываемое число больше {predict} \")\n",
    "    elif number < predict: print (f\"Угадываемое число меньше {predict} \")\n",
    "            \n",
    "print (f\"Вы угадали число {number} за {count} попыток.\")    "
   ]
  },
  {
   "cell_type": "code",
   "execution_count": null,
   "metadata": {},
   "outputs": [],
   "source": []
  },
  {
   "cell_type": "code",
   "execution_count": 30,
   "metadata": {},
   "outputs": [
    {
     "name": "stdout",
     "output_type": "stream",
     "text": [
      "Загадано число от 1 до 100 4\n",
      "Вы угадали число 4 за 4 попыток.\n"
     ]
    }
   ],
   "source": [
    "number = np.random.randint(1,101)      # загадали число\n",
    "print (\"Загадано число от 1 до 100\", number)\n",
    "for count in range(1,101):         # более компактный вариант счетчика\n",
    "    if number == count: break      # выход из цикла, если угадали      \n",
    "print (f\"Вы угадали число {number} за {count} попыток.\")    "
   ]
  },
  {
   "cell_type": "code",
   "execution_count": 23,
   "metadata": {},
   "outputs": [
    {
     "name": "stdout",
     "output_type": "stream",
     "text": [
      "Ваш алгоритм угадывает число в среднем за 101 попыток\n"
     ]
    },
    {
     "data": {
      "text/plain": [
       "101"
      ]
     },
     "execution_count": 23,
     "metadata": {},
     "output_type": "execute_result"
    }
   ],
   "source": [
    "def game_core_v1(number):\n",
    "    '''Просто угадываем на random, никак не используя информацию о больше или меньше.\n",
    "       Функция принимает загаданное число и возвращает число попыток'''\n",
    "    count = 0\n",
    "    while True:\n",
    "        count+=1\n",
    "        predict = np.random.randint(1,101) # предполагаемое число\n",
    "        if number == predict: \n",
    "            return count # выход из цикла, если угадали\n",
    "\n",
    "def score_game(game_core):\n",
    "    '''Запускаем игру 1000 раз, чтобы узнать, как быстро игра угадывает число'''\n",
    "    count_ls = []\n",
    "    np.random.seed(1)  # фиксируем RANDOM SEED, чтобы ваш эксперимент был воспроизводим!\n",
    "    random_array = np.random.randint(1,101, size=(1000))\n",
    "    for number in random_array:\n",
    "        count_ls.append(game_core(number))\n",
    "    score = int(np.mean(count_ls))\n",
    "    print(f\"Ваш алгоритм угадывает число в среднем за {score} попыток\")\n",
    "    return(score)\n",
    "\n",
    "score_game(game_core_v1)"
   ]
  },
  {
   "cell_type": "code",
   "execution_count": 21,
   "metadata": {},
   "outputs": [
    {
     "name": "stdout",
     "output_type": "stream",
     "text": [
      "Ваш алгоритм угадывает число в среднем за 33 попыток\n"
     ]
    },
    {
     "data": {
      "text/plain": [
       "33"
      ]
     },
     "execution_count": 21,
     "metadata": {},
     "output_type": "execute_result"
    }
   ],
   "source": [
    "def game_core_v2(number):\n",
    "    '''Сначала устанавливаем любое random число, а потом уменьшаем или увеличиваем его в зависимости от того, больше оно или меньше нужного.\n",
    "       Функция принимает загаданное число и возвращает число попыток'''\n",
    "    count = 1\n",
    "    predict = np.random.randint(1,101)\n",
    "    while number != predict:\n",
    "        count+=1\n",
    "        if number > predict: \n",
    "            predict += 1\n",
    "        elif number < predict: \n",
    "            predict -= 1\n",
    "    return(count) # выход из цикла, если угадали\n",
    "\n",
    "def score_game(game_core):\n",
    "    '''Запускаем игру 1000 раз, чтобы узнать, как быстро игра угадывает число'''\n",
    "    count_ls = []\n",
    "    np.random.seed(1)  # фиксируем RANDOM SEED, чтобы ваш эксперимент был воспроизводим!\n",
    "    random_array = np.random.randint(1,101, size=(1000))\n",
    "    for number in random_array:\n",
    "        count_ls.append(game_core(number))\n",
    "    score = int(np.mean(count_ls))\n",
    "    print(f\"Ваш алгоритм угадывает число в среднем за {score} попыток\")\n",
    "    return(score)\n",
    "\n",
    "score_game(game_core_v2)"
   ]
  },
  {
   "cell_type": "code",
   "execution_count": 113,
   "metadata": {},
   "outputs": [
    {
     "name": "stdout",
     "output_type": "stream",
     "text": [
      "1 100\n",
      "50 100\n",
      "75 100\n",
      "88 100\n",
      "94 100\n",
      "97 100\n",
      "7\n"
     ]
    }
   ],
   "source": [
    "number_min = 1\n",
    "number_max = 100 # Задаю минимальное и максимальное числа - в окончательноем решении можно убрать\n",
    "\n",
    "def game_core_binary_search(number): # программируем двоичный поиск\n",
    "    count = 1\n",
    "    floor = number_min\n",
    "    ceiling = number_max\n",
    "    '''Переменные floor и ceiling - текущий отрезок поиска числа.\n",
    "    Сначала приравниваем их соответственно number_min и number_max.\n",
    "    Начинаем угадывать со среднего между floor и ceiling числа.'''\n",
    "    predict = find_middle(number_min, number_max, floor, ceiling)\n",
    "    while number != predict:\n",
    "        print(floor, ceiling)\n",
    "        count+=1\n",
    "        if number > predict: \n",
    "            floor = predict\n",
    "            predict = find_middle(number_min, number_max, floor, ceiling)\n",
    "        elif number < predict:\n",
    "            ceiling = predict\n",
    "            predict = find_middle(number_min, number_max, floor, ceiling)\n",
    "    return(count) # выход из цикла, если угадали\n",
    "\n",
    "\n",
    "def find_middle(min, max, floor, ceiling):\n",
    "    if ceiling - floor == 1:\n",
    "        if floor == min:\n",
    "            return floor\n",
    "        elif ceiling == max:\n",
    "            return ceiling\n",
    "    else:\n",
    "        return int(round((floor+ceiling) / 2, 0))\n",
    "\n",
    "\n",
    "print(game_core_binary_search(99))"
   ]
  },
  {
   "cell_type": "code",
   "execution_count": 108,
   "metadata": {},
   "outputs": [
    {
     "name": "stdout",
     "output_type": "stream",
     "text": [
      "99\n"
     ]
    }
   ],
   "source": [
    "def find_middle(min, max, floor, ceiling):\n",
    "    if ceiling - floor == 1 and floor == min:\n",
    "        return floor\n",
    "    elif ceiling - floor == 1 and ceiling == max:\n",
    "        return ceiling\n",
    "    else:\n",
    "        return int(round((floor+ceiling) / 2, 0))\n",
    "\n",
    "print(find_middle(1,100, 98,100))"
   ]
  },
  {
   "cell_type": "code",
   "execution_count": 101,
   "metadata": {},
   "outputs": [
    {
     "data": {
      "text/plain": [
       "100"
      ]
     },
     "execution_count": 101,
     "metadata": {},
     "output_type": "execute_result"
    }
   ],
   "source": [
    "int(round(199/2,0))"
   ]
  },
  {
   "cell_type": "code",
   "execution_count": 114,
   "metadata": {},
   "outputs": [
    {
     "name": "stdout",
     "output_type": "stream",
     "text": [
      "99\n"
     ]
    }
   ],
   "source": [
    "def find_middle(min, max, floor, ceiling):\n",
    "    if ceiling - floor == 1:\n",
    "        if floor == min:\n",
    "            return floor\n",
    "        elif ceiling == max:\n",
    "            return ceiling\n",
    "    else:\n",
    "        return int(round((floor+ceiling) / 2, 0))\n",
    "\n",
    "print(find_middle(1,100, 98,100))"
   ]
  },
  {
   "cell_type": "code",
   "execution_count": 127,
   "metadata": {},
   "outputs": [
    {
     "name": "stdout",
     "output_type": "stream",
     "text": [
      "Ваш алгоритм угадывает число в среднем за 5 попыток\n"
     ]
    },
    {
     "data": {
      "text/plain": [
       "5"
      ]
     },
     "execution_count": 127,
     "metadata": {},
     "output_type": "execute_result"
    }
   ],
   "source": [
    "number_min = 1\n",
    "number_max = 100 # Задаю минимальное и максимальное числа - в окончательноем решении можно убрать\n",
    "\n",
    "def find_middle(min, max, floor, ceiling):\n",
    "    if ceiling - floor == 1:\n",
    "        if floor == min:\n",
    "            return floor\n",
    "        elif ceiling == max:\n",
    "            return ceiling\n",
    "    else:\n",
    "        return int(round((floor+ceiling) / 2, 0))\n",
    "\n",
    "\n",
    "def game_core_binary_search(number): # программируем двоичный поиск\n",
    "    count = 1\n",
    "    floor = number_min\n",
    "    ceiling = number_max\n",
    "    '''Переменные floor и ceiling - текущий отрезок поиска числа.\n",
    "    Сначала приравниваем их соответственно number_min и number_max.\n",
    "    Начинаем угадывать со среднего между floor и ceiling числа.'''\n",
    "    predict = find_middle(number_min, number_max, floor, ceiling)\n",
    "    while number != predict:\n",
    "        count+=1\n",
    "        if number > predict: \n",
    "            floor = predict\n",
    "            predict = find_middle(number_min, number_max, floor, ceiling)\n",
    "        elif number < predict:\n",
    "            ceiling = predict\n",
    "            predict = find_middle(number_min, number_max, floor, ceiling)\n",
    "    return(count) # выход из цикла, если угадали\n",
    "\n",
    "\n",
    "def score_game(game_core):\n",
    "    '''Запускаем игру 1000 раз, чтобы узнать, как быстро игра угадывает число'''\n",
    "    count_ls = []\n",
    "    np.random.seed(1)  # фиксируем RANDOM SEED, чтобы ваш эксперимент был воспроизводим!\n",
    "    random_array = np.random.randint(1,101, size=(1000))\n",
    "    for number in random_array:\n",
    "        count_ls.append(game_core(number))\n",
    "    score = int(np.mean(count_ls))\n",
    "    print(f\"Ваш алгоритм угадывает число в среднем за {score} попыток\")\n",
    "    return(score)\n",
    "\n",
    "score_game(game_core_binary_search)"
   ]
  },
  {
   "cell_type": "code",
   "execution_count": 12,
   "metadata": {},
   "outputs": [
    {
     "name": "stdout",
     "output_type": "stream",
     "text": [
      "Ваш алгоритм угадывает число в среднем за 18 попыток\n"
     ]
    },
    {
     "data": {
      "text/plain": [
       "18"
      ]
     },
     "execution_count": 12,
     "metadata": {},
     "output_type": "execute_result"
    }
   ],
   "source": [
    "# Version 2.0 2101212315\n",
    "\n",
    "import numpy as np\n",
    "\n",
    "number_min = 1\n",
    "number_max = 1000000 # Задаю минимальное и максимальное числа - в окончательноем решении можно убрать\n",
    "\n",
    "\n",
    "def game_core_binary_search(number): # программируем двоичный поиск\n",
    "    count = 1\n",
    "    left = number_min\n",
    "    right = number_max\n",
    "    '''Переменные left и right - текущий отрезок поиска числа.\n",
    "    Сначала приравниваем их соответственно number_min и number_max.\n",
    "    Начинаем угадывать со среднего между left и right числа.'''\n",
    "    predict = (left+right) // 2\n",
    "    while number != predict:\n",
    "        count+=1\n",
    "        if number > predict:\n",
    "            left = predict + 1\n",
    "        elif number < predict:\n",
    "            right = predict - 1\n",
    "        predict = (left+right) // 2\n",
    "    return(count) # выход из цикла, если угадали\n",
    "\n",
    "\n",
    "def score_game(game_core):\n",
    "    '''Запускаем игру 1000 раз, чтобы узнать, как быстро игра угадывает число'''\n",
    "    count_ls = []\n",
    "    np.random.seed(1)  # фиксируем RANDOM SEED, чтобы ваш эксперимент был воспроизводим!\n",
    "    random_array = np.random.randint(number_min,number_max+1, size=(1000))\n",
    "    for number in random_array:\n",
    "        count_ls.append(game_core(number))\n",
    "    score = int(np.mean(count_ls))\n",
    "    print(f\"Ваш алгоритм угадывает число в среднем за {score} попыток\")\n",
    "    return(score)\n",
    "\n",
    "score_game(game_core_binary_search)"
   ]
  },
  {
   "cell_type": "code",
   "execution_count": 5,
   "metadata": {},
   "outputs": [
    {
     "name": "stdout",
     "output_type": "stream",
     "text": [
      "1 1000000\n",
      "1 666667\n",
      "1 444445\n",
      "1 296297\n",
      "1 197532\n",
      "1 131689\n",
      "1 87793\n",
      "1 58529\n",
      "1 39020\n",
      "1 26014\n",
      "1 17343\n",
      "1 11563\n",
      "1 7709\n",
      "1 5140\n",
      "1 3427\n",
      "1 2285\n",
      "1 1524\n",
      "1 1017\n",
      "1 679\n",
      "1 453\n",
      "1 303\n",
      "1 203\n",
      "1 136\n",
      "1 91\n",
      "1 61\n",
      "1 41\n",
      "1 28\n",
      "1 19\n",
      "1 13\n",
      "1 9\n",
      "1 7\n",
      "32\n"
     ]
    }
   ],
   "source": [
    "# Version 3.0 2101212334\n",
    "\n",
    "import numpy as np\n",
    "\n",
    "number_min = 1\n",
    "number_max = 1000000 # Задаю минимальное и максимальное числа - в окончательноем решении можно убрать\n",
    "\n",
    "\n",
    "def game_core_ternary_search(number): # программируем троичный поиск\n",
    "    count = 1\n",
    "    left = number_min\n",
    "    right = number_max\n",
    "    '''Переменные left и right - текущий отрезок поиска числа.\n",
    "    Сначала приравниваем их соответственно number_min и number_max.\n",
    "    Начинаем угадывать со среднего между left и right числа.'''\n",
    "    \n",
    "    predict = (left+right) // 2\n",
    "    \n",
    "    while number != predict:\n",
    "        print (left, right)\n",
    "        \n",
    "        count += 1\n",
    "        \n",
    "        left_third = left + (right-left) // 3\n",
    "        right_third = right - (right-left) // 3\n",
    "        \n",
    "        if number > predict:\n",
    "            left = left_third\n",
    "        elif number < predict:\n",
    "            right = right_third\n",
    "        \n",
    "        predict = (left+right) // 2\n",
    "        \n",
    "        if count > 50:\n",
    "            break\n",
    "        \n",
    "    return(count)       \n",
    "            \n",
    "print(game_core_ternary_search(3))\n",
    "    \n",
    "    \n",
    "    \n",
    "    \n",
    "#     while number != predict:\n",
    "#         count+=1\n",
    "#         if number > predict:\n",
    "#             floor = predict + 1\n",
    "#             predict = (floor+ceiling) // 2\n",
    "#         elif number < predict:\n",
    "#             ceiling = predict - 1\n",
    "#             predict = (floor+ceiling) // 2\n",
    "#     return(count) # выход из цикла, если угадали\n",
    "\n",
    "\n",
    "def score_game(game_core):\n",
    "    '''Запускаем игру 1000 раз, чтобы узнать, как быстро игра угадывает число'''\n",
    "    count_ls = []\n",
    "    np.random.seed(1)  # фиксируем RANDOM SEED, чтобы ваш эксперимент был воспроизводим!\n",
    "    random_array = np.random.randint(number_min,number_max+1, size=(1000))\n",
    "    for number in random_array:\n",
    "        count_ls.append(game_core(number))\n",
    "    score = int(np.mean(count_ls))\n",
    "    print(f\"Ваш алгоритм угадывает число в среднем за {score} попыток\")\n",
    "    return(score)\n",
    "\n",
    "# score_game(game_core_ternary_search)"
   ]
  },
  {
   "cell_type": "code",
   "execution_count": 15,
   "metadata": {},
   "outputs": [
    {
     "name": "stdout",
     "output_type": "stream",
     "text": [
      "Ваш алгоритм угадывает число в среднем за 7.173 попыток\n"
     ]
    },
    {
     "data": {
      "text/plain": [
       "7.173"
      ]
     },
     "execution_count": 15,
     "metadata": {},
     "output_type": "execute_result"
    }
   ],
   "source": [
    "# Version 4.0 2201211604\n",
    "\n",
    "import numpy as np\n",
    "\n",
    "number_min = 1\n",
    "number_max = 100 # Задаю минимальное и максимальное числа - в окончательноем решении можно убрать\n",
    "\n",
    "\n",
    "def game_core_random_search(number): # программируем двоичный поиск\n",
    "    \n",
    "    count = 1\n",
    "    np.random.seed()\n",
    "    left = number_min\n",
    "    right = number_max\n",
    "    \n",
    "    '''Переменные left и right - текущий отрезок поиска числа.\n",
    "    Сначала приравниваем их соответственно number_min и number_max.\n",
    "    Начинаем угадывать со среднего между left и right числа.'''\n",
    "    \n",
    "    predict = np.random.randint(left, right)\n",
    "    \n",
    "    while number != predict:\n",
    "        \n",
    "        count+=1\n",
    "        \n",
    "        if number > predict:\n",
    "            left = predict + 1\n",
    "        elif number < predict:\n",
    "            right = predict - 1\n",
    "        \n",
    "        if left == right:\n",
    "            break\n",
    "        else:\n",
    "            predict = np.random.randint(left, right)\n",
    "        \n",
    "    return(count) # выход из цикла, если угадали\n",
    "\n",
    "\n",
    "def score_game(game_core):\n",
    "    '''Запускаем игру 1000 раз, чтобы узнать, как быстро игра угадывает число'''\n",
    "    count_ls = []\n",
    "    np.random.seed(1)  # фиксируем RANDOM SEED, чтобы ваш эксперимент был воспроизводим!\n",
    "    random_array = np.random.randint(number_min,number_max+1, size=(1000))\n",
    "    for number in random_array:\n",
    "        count_ls.append(game_core(number))\n",
    "    score = int(np.mean(count_ls))\n",
    "    print(f\"Ваш алгоритм угадывает число в среднем за {score} попыток\")\n",
    "    return(score)\n",
    "\n",
    "\n",
    "score_game(game_core_random_search)"
   ]
  },
  {
   "cell_type": "code",
   "execution_count": 13,
   "metadata": {},
   "outputs": [
    {
     "data": {
      "text/plain": [
       "1"
      ]
     },
     "execution_count": 13,
     "metadata": {},
     "output_type": "execute_result"
    }
   ],
   "source": [
    "import numpy as np\n",
    "\n",
    "np.random.randint(1,2)"
   ]
  },
  {
   "cell_type": "code",
   "execution_count": null,
   "metadata": {},
   "outputs": [],
   "source": []
  }
 ],
 "metadata": {
  "kernelspec": {
   "display_name": "Python 3",
   "language": "python",
   "name": "python3"
  },
  "language_info": {
   "codemirror_mode": {
    "name": "ipython",
    "version": 3
   },
   "file_extension": ".py",
   "mimetype": "text/x-python",
   "name": "python",
   "nbconvert_exporter": "python",
   "pygments_lexer": "ipython3",
   "version": "3.8.5"
  }
 },
 "nbformat": 4,
 "nbformat_minor": 4
}
